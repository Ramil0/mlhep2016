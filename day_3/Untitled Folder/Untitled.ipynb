{
 "cells": [
  {
   "cell_type": "code",
   "execution_count": 11,
   "metadata": {
    "collapsed": false
   },
   "outputs": [
    {
     "name": "stdout",
     "output_type": "stream",
     "text": [
      "Cloning into 'mlhep2016'...\n",
      "remote: Counting objects: 415, done.\u001b[K\n",
      "remote: Compressing objects: 100% (6/6), done.\u001b[K\n",
      "remote: Total 415 (delta 0), reused 0 (delta 0), pack-reused 409\u001b[K\n",
      "Receiving objects: 100% (415/415), 194.89 MiB | 20.24 MiB/s, done.\n",
      "Resolving deltas: 100% (149/149), done.\n",
      "Checking connectivity... done.\n"
     ]
    }
   ],
   "source": [
    "! rm -r mlhep2016\n",
    "! git clone https://github.com/yandexdataschool/mlhep2016.git"
   ]
  },
  {
   "cell_type": "code",
   "execution_count": 9,
   "metadata": {
    "collapsed": false
   },
   "outputs": [],
   "source": []
  }
 ],
 "metadata": {
  "kernelspec": {
   "display_name": "Python 2",
   "language": "python",
   "name": "python2"
  },
  "language_info": {
   "codemirror_mode": {
    "name": "ipython",
    "version": 2
   },
   "file_extension": ".py",
   "mimetype": "text/x-python",
   "name": "python",
   "nbconvert_exporter": "python",
   "pygments_lexer": "ipython2",
   "version": "2.7.11"
  }
 },
 "nbformat": 4,
 "nbformat_minor": 0
}
